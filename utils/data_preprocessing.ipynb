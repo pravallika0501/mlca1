{
 "cells": [
  {
   "cell_type": "code",
   "execution_count": 3,
   "metadata": {},
   "outputs": [],
   "source": [
    "import pandas as pd\n",
    "\n",
    "def preprocess_data(file_path):\n",
    "    # Read the dataset from the provided file path\n",
    "    df = pd.read_csv(file_path)\n",
    "    \n",
    "    # Perform data cleaning\n",
    "    df.fillna(0, inplace=True)  # Replace NaN values with 0\n",
    "    \n",
    "    # Add any other preprocessing steps here (e.g., encoding, feature engineering)\n",
    "    \n",
    "    return df\n",
    "\n",
    "# Example usage\n",
    "file_path = r\"C:\\Users\\admin\\Desktop\\ecommerce-price-prediction\\data\\ecommerce_dataset.csv\"\n",
    "df = preprocess_data(file_path)\n",
    "\n"
   ]
  }
 ],
 "metadata": {
  "kernelspec": {
   "display_name": "Python 3",
   "language": "python",
   "name": "python3"
  },
  "language_info": {
   "codemirror_mode": {
    "name": "ipython",
    "version": 3
   },
   "file_extension": ".py",
   "mimetype": "text/x-python",
   "name": "python",
   "nbconvert_exporter": "python",
   "pygments_lexer": "ipython3",
   "version": "3.10.11"
  }
 },
 "nbformat": 4,
 "nbformat_minor": 2
}
