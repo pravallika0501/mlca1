{
 "cells": [
  {
   "cell_type": "code",
   "execution_count": 1,
   "metadata": {},
   "outputs": [
    {
     "name": "stdout",
     "output_type": "stream",
     "text": [
      "Dataset saved as 'ecommerce_dataset.csv'\n"
     ]
    }
   ],
   "source": [
    "import pandas as pd\n",
    "\n",
    "# Sample data\n",
    "data = {\n",
    "    'Product_Name': ['Laptop', 'Smartphone', 'Headphones', 'Office Chair', 'Desk', \n",
    "                     'T-Shirt', 'Jeans', 'Shoes', 'Coffee Maker', 'Blender'],\n",
    "    'Category': ['Electronics', 'Electronics', 'Electronics', 'Furniture', 'Furniture', \n",
    "                 'Apparel', 'Apparel', 'Apparel', 'Appliances', 'Appliances'],\n",
    "    'Price': [1000, 600, 100, 200, 300, 20, 40, 80, 120, 50],\n",
    "    'Discount': [10, 5, 15, 20, 10, 5, 10, 15, 8, 12],\n",
    "    'Sales_Quantity': [50, 150, 200, 30, 20, 500, 300, 100, 70, 90]\n",
    "}\n",
    "\n",
    "# Create DataFrame\n",
    "df = pd.DataFrame(data)\n",
    "\n",
    "# Save to CSV\n",
    "df.to_csv('ecommerce_dataset.csv', index=False)\n",
    "\n",
    "print(\"Dataset saved as 'ecommerce_dataset.csv'\")\n"
   ]
  }
 ],
 "metadata": {
  "kernelspec": {
   "display_name": "Python 3",
   "language": "python",
   "name": "python3"
  },
  "language_info": {
   "codemirror_mode": {
    "name": "ipython",
    "version": 3
   },
   "file_extension": ".py",
   "mimetype": "text/x-python",
   "name": "python",
   "nbconvert_exporter": "python",
   "pygments_lexer": "ipython3",
   "version": "3.10.11"
  }
 },
 "nbformat": 4,
 "nbformat_minor": 2
}
