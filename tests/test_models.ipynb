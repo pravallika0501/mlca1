{
 "cells": [
  {
   "cell_type": "code",
   "execution_count": null,
   "metadata": {},
   "outputs": [],
   "source": [
    "        \n",
    "import unittest\n",
    "from sklearn.model_selection import train_test_split\n",
    "from sklearn.linear_model import Ridge\n",
    "import pandas as pd\n",
    "\n",
    "class TestModel(unittest.TestCase):\n",
    "\n",
    "    @classmethod\n",
    "    def setUpClass(cls):\n",
    "        # Load and preprocess your dataset here\n",
    "        cls.df = pd.read_csv('data/ecommerce_dataset.csv')  # Update path as needed\n",
    "        cls.X = cls.df[['Category', 'Discount', 'Sales_Quantity']]  # Replace with actual feature names\n",
    "        cls.y = cls.df['Price']  # The target variable (price)\n",
    "\n",
    "        # Split the dataset for testing\n",
    "        cls.X_train, cls.X_test, cls.y_train, cls.y_test = train_test_split(cls.X, cls.y, test_size=0.2, random_state=42)\n",
    "        \n",
    "        # Train the Ridge model\n",
    "        cls.ridge_model = Ridge()\n",
    "        cls.ridge_model.fit(cls.X_train, cls.y_train)\n",
    "\n",
    "    def test_ridge_accuracy(self):\n",
    "        \"\"\" Test that the R-squared score is above a threshold. \"\"\"\n",
    "        r2_score = self.ridge_model.score(self.X_test, self.y_test)\n",
    "        self.assertGreater(r2_score, 0.7, \"Ridge model R-squared score is too low\")\n",
    "\n",
    "    def test_no_missing_values(self):\n",
    "        \"\"\" Test that there are no missing values in the features. \"\"\"\n",
    "        self.assertFalse(self.X.isnull().values.any(), \"Missing values in the input data\")\n",
    "\n",
    "    def test_prediction_range(self):\n",
    "        \"\"\" Test that predictions are non-negative. \"\"\"\n",
    "        predictions = self.ridge_model.predict(self.X_test)\n",
    "        self.assertTrue((predictions >= 0).all(), \"Predictions have negative values\")\n",
    "\n",
    "if __name__ == '__main__':\n",
    "    unittest.main(argv=['-v'], exit=False)\n"
   ]
  }
 ],
 "metadata": {
  "kernelspec": {
   "display_name": "Python 3",
   "language": "python",
   "name": "python3"
  },
  "language_info": {
   "codemirror_mode": {
    "name": "ipython",
    "version": 3
   },
   "file_extension": ".py",
   "mimetype": "text/x-python",
   "name": "python",
   "nbconvert_exporter": "python",
   "pygments_lexer": "ipython3",
   "version": "3.10.11"
  }
 },
 "nbformat": 4,
 "nbformat_minor": 2
}
