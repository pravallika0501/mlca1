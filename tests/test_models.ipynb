{
 "cells": [
  {
   "cell_type": "code",
   "execution_count": 17,
   "metadata": {},
   "outputs": [
    {
     "name": "stderr",
     "output_type": "stream",
     "text": [
      "..F\n",
      "======================================================================\n",
      "FAIL: test_ridge_accuracy (__main__.TestModel)\n",
      "Test that the R-squared score is above a threshold.\n",
      "----------------------------------------------------------------------\n",
      "Traceback (most recent call last):\n",
      "  File \"C:\\Users\\admin\\AppData\\Local\\Temp\\ipykernel_5360\\3368410769.py\", line 30, in test_ridge_accuracy\n",
      "    self.assertGreater(r2_score, 0.7, \"Ridge model R-squared score is too low\")\n",
      "AssertionError: 0.22766697062413366 not greater than 0.7 : Ridge model R-squared score is too low\n",
      "\n"
     ]
    },
    {
     "name": "stderr",
     "output_type": "stream",
     "text": [
      "----------------------------------------------------------------------\n",
      "Ran 3 tests in 0.019s\n",
      "\n",
      "FAILED (failures=1)\n"
     ]
    }
   ],
   "source": [
    "import unittest\n",
    "from sklearn.model_selection import train_test_split\n",
    "from sklearn.linear_model import Ridge\n",
    "import pandas as pd\n",
    "\n",
    "class TestModel(unittest.TestCase):\n",
    "\n",
    "    @classmethod\n",
    "    def setUpClass(cls):\n",
    "        # Load the dataset\n",
    "        cls.df = pd.read_csv(r'C:\\Users\\admin\\Desktop\\ecommerce-price-prediction\\data\\ecommerce_dataset.csv')  # Update path as needed\n",
    "        \n",
    "        # One-hot encode categorical features\n",
    "        cls.df = pd.get_dummies(cls.df, columns=['Category'], drop_first=True)  # Update with actual categorical columns if necessary\n",
    "        \n",
    "        # Define features and target\n",
    "        cls.X = cls.df[['Discount', 'Sales_Quantity'] + [col for col in cls.df if col.startswith('Category_')]]  # Include one-hot encoded columns\n",
    "        cls.y = cls.df['Price']  # The target variable (price)\n",
    "\n",
    "        # Split the dataset for testing\n",
    "        cls.X_train, cls.X_test, cls.y_train, cls.y_test = train_test_split(cls.X, cls.y, test_size=0.2, random_state=42)\n",
    "        \n",
    "        # Train the Ridge model\n",
    "        cls.ridge_model = Ridge()\n",
    "        cls.ridge_model.fit(cls.X_train, cls.y_train)\n",
    "\n",
    "    def test_ridge_accuracy(self):\n",
    "        \"\"\" Test that the R-squared score is above a threshold. \"\"\"\n",
    "        r2_score = self.ridge_model.score(self.X_test, self.y_test)\n",
    "        self.assertGreater(r2_score, 0.7, \"Ridge model R-squared score is too low\")\n",
    "\n",
    "    def test_no_missing_values(self):\n",
    "        \"\"\" Test that there are no missing values in the features. \"\"\"\n",
    "        self.assertFalse(self.X.isnull().values.any(), \"Missing values in the input data\")\n",
    "\n",
    "    def test_prediction_range(self):\n",
    "        \"\"\" Test that predictions are non-negative. \"\"\"\n",
    "        predictions = self.ridge_model.predict(self.X_test)\n",
    "        self.assertTrue((predictions >= 0).all(), \"Predictions have negative values\")\n",
    "\n",
    "if __name__ == '__main__':\n",
    "    unittest.main(argv=['-v'], exit=False)\n"
   ]
  }
 ],
 "metadata": {
  "kernelspec": {
   "display_name": "Python 3",
   "language": "python",
   "name": "python3"
  },
  "language_info": {
   "codemirror_mode": {
    "name": "ipython",
    "version": 3
   },
   "file_extension": ".py",
   "mimetype": "text/x-python",
   "name": "python",
   "nbconvert_exporter": "python",
   "pygments_lexer": "ipython3",
   "version": "3.10.11"
  }
 },
 "nbformat": 4,
 "nbformat_minor": 2
}
