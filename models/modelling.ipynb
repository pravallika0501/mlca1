{
 "cells": [
  {
   "cell_type": "code",
   "execution_count": 2,
   "metadata": {},
   "outputs": [
    {
     "name": "stdout",
     "output_type": "stream",
     "text": [
      "Ridge R-squared: 0.7118\n",
      "Lasso R-squared: -1.1493\n",
      "ElasticNet R-squared: 0.5928\n",
      "\n",
      "Best model based on R-squared score: Ridge with R-squared = 0.7118\n"
     ]
    }
   ],
   "source": [
    "import pandas as pd\n",
    "from sklearn.model_selection import train_test_split\n",
    "from sklearn.linear_model import Ridge, Lasso, ElasticNet\n",
    "from sklearn.metrics import r2_score\n",
    "from sklearn.preprocessing import StandardScaler\n",
    "\n",
    "# Load and preprocess data\n",
    "def preprocess_data(filepath):\n",
    "    df = pd.read_csv(filepath)\n",
    "    # Perform cleaning, encoding, etc.\n",
    "    df.fillna(0, inplace=True)\n",
    "    # Dummy encode categorical features like 'Category'\n",
    "    df = pd.get_dummies(df, drop_first=True)\n",
    "    return df\n",
    "\n",
    "# Load the data\n",
    "df = preprocess_data(r\"C:\\Users\\admin\\Desktop\\ecommerce-price-prediction\\data\\ecommerce_dataset.csv\")\n",
    "\n",
    "# Define the features (X) and target (y)\n",
    "X = df.drop(columns=['Price'])  # All columns except 'Price'\n",
    "y = df['Price']  # Target column\n",
    "\n",
    "# Split the data into training and testing sets\n",
    "X_train, X_test, y_train, y_test = train_test_split(X, y, test_size=0.2, random_state=42)\n",
    "\n",
    "# Scale the features\n",
    "scaler = StandardScaler()\n",
    "X_train_scaled = scaler.fit_transform(X_train)\n",
    "X_test_scaled = scaler.transform(X_test)\n",
    "\n",
    "# Train Ridge, Lasso, and ElasticNet models and evaluate them\n",
    "def train_and_evaluate_models(X_train, X_test, y_train, y_test):\n",
    "    models = {\n",
    "        'Ridge': Ridge(),\n",
    "        'Lasso': Lasso(),\n",
    "        'ElasticNet': ElasticNet()\n",
    "    }\n",
    "    \n",
    "    r2_scores = {}\n",
    "\n",
    "    for name, model in models.items():\n",
    "        # Train the model\n",
    "        model.fit(X_train, y_train)\n",
    "        # Make predictions\n",
    "        y_pred = model.predict(X_test)\n",
    "        # Calculate R-squared score\n",
    "        r2 = r2_score(y_test, y_pred)\n",
    "        r2_scores[name] = r2\n",
    "        print(f\"{name} R-squared: {r2:.4f}\")\n",
    "\n",
    "    return r2_scores\n",
    "\n",
    "# Call the function to train and evaluate the models\n",
    "r2_scores = train_and_evaluate_models(X_train_scaled, X_test_scaled, y_train, y_test)\n",
    "\n",
    "# Determine the best model based on R-squared score\n",
    "best_model = max(r2_scores, key=r2_scores.get)\n",
    "print(f\"\\nBest model based on R-squared score: {best_model} with R-squared = {r2_scores[best_model]:.4f}\")\n"
   ]
  }
 ],
 "metadata": {
  "language_info": {
   "name": "python"
  }
 },
 "nbformat": 4,
 "nbformat_minor": 2
}
